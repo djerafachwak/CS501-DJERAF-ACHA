{
  "nbformat": 4,
  "nbformat_minor": 0,
  "metadata": {
    "colab": {
      "provenance": [],
      "authorship_tag": "ABX9TyNvT5Cjca5wnk4yruqFJMbA",
      "include_colab_link": true
    },
    "kernelspec": {
      "name": "python3",
      "display_name": "Python 3"
    },
    "language_info": {
      "name": "python"
    }
  },
  "cells": [
    {
      "cell_type": "markdown",
      "metadata": {
        "id": "view-in-github",
        "colab_type": "text"
      },
      "source": [
        "<a href=\"https://colab.research.google.com/github/djerafachwak/CS501-DJERAF-Achwaq/blob/main/first_assinment1.ipynb\" target=\"_parent\"><img src=\"https://colab.research.google.com/assets/colab-badge.svg\" alt=\"Open In Colab\"/></a>"
      ]
    },
    {
      "cell_type": "markdown",
      "source": [
        "# Q1: Create a variable named `age` and assign your age to it.\n"
      ],
      "metadata": {
        "id": "VoP7YzHoMGBZ"
      }
    },
    {
      "cell_type": "code",
      "source": [
        "age=22\n",
        "age"
      ],
      "metadata": {
        "colab": {
          "base_uri": "https://localhost:8080/"
        },
        "id": "FRBIiutcL9ci",
        "outputId": "c9b2b7c5-703e-48de-95bd-a05b960c8f2c"
      },
      "execution_count": null,
      "outputs": [
        {
          "output_type": "execute_result",
          "data": {
            "text/plain": [
              "22"
            ]
          },
          "metadata": {},
          "execution_count": 1
        }
      ]
    },
    {
      "cell_type": "markdown",
      "source": [
        "# Q2: Create two variables, `city` and `country`, and assign your city and country to them"
      ],
      "metadata": {
        "id": "Dl-QF-n-MZaK"
      }
    },
    {
      "cell_type": "code",
      "source": [
        "city='msila'\n",
        "country='Algeria'"
      ],
      "metadata": {
        "id": "mBAwgdHmMhNW"
      },
      "execution_count": null,
      "outputs": []
    },
    {
      "cell_type": "markdown",
      "source": [
        "# Q3: Combine `city` and `country` into a single string `location` and print it"
      ],
      "metadata": {
        "id": "yBTwqb_HNJMg"
      }
    },
    {
      "cell_type": "code",
      "source": [
        "location= city,country\n",
        "location"
      ],
      "metadata": {
        "colab": {
          "base_uri": "https://localhost:8080/"
        },
        "id": "dd25BVJcNPWQ",
        "outputId": "f59280bf-3a2f-4d1c-c86a-ba1309ed92b3"
      },
      "execution_count": null,
      "outputs": [
        {
          "output_type": "execute_result",
          "data": {
            "text/plain": [
              "('msila', 'Algeria')"
            ]
          },
          "metadata": {},
          "execution_count": 15
        }
      ]
    },
    {
      "cell_type": "markdown",
      "source": [
        "#Q4: Change the value of `age` to a different number and print it.\n",
        "\n"
      ],
      "metadata": {
        "id": "Ik0GK8oWO3p-"
      }
    },
    {
      "cell_type": "code",
      "source": [
        "age=45\n",
        "age"
      ],
      "metadata": {
        "colab": {
          "base_uri": "https://localhost:8080/"
        },
        "id": "o3Zl_jC3PbsP",
        "outputId": "e7716169-9221-4f71-893b-e1f1e844dc11"
      },
      "execution_count": null,
      "outputs": [
        {
          "output_type": "execute_result",
          "data": {
            "text/plain": [
              "45"
            ]
          },
          "metadata": {},
          "execution_count": 16
        }
      ]
    },
    {
      "cell_type": "markdown",
      "source": [
        "# Q5: Create a variable `height` and assign a float value representing your height in meters."
      ],
      "metadata": {
        "id": "YO5tAz6uRkiK"
      }
    },
    {
      "cell_type": "code",
      "source": [
        "height=1.64\n",
        "height"
      ],
      "metadata": {
        "colab": {
          "base_uri": "https://localhost:8080/"
        },
        "id": "u3a5AcgTRq0D",
        "outputId": "f12d007c-62de-496c-b9de-aaffe62eddc8"
      },
      "execution_count": null,
      "outputs": [
        {
          "output_type": "execute_result",
          "data": {
            "text/plain": [
              "1.64"
            ]
          },
          "metadata": {},
          "execution_count": 18
        }
      ]
    },
    {
      "cell_type": "markdown",
      "source": [
        "# Q6: Check and print the data type of the `height` variable using the `type()` function."
      ],
      "metadata": {
        "id": "7MAljfStTG0-"
      }
    },
    {
      "cell_type": "code",
      "source": [
        "print(\"type of height\",type(height))"
      ],
      "metadata": {
        "colab": {
          "base_uri": "https://localhost:8080/"
        },
        "id": "b1zJ9uucTMoc",
        "outputId": "ef925f04-d211-478a-ca64-272e901e21c8"
      },
      "execution_count": null,
      "outputs": [
        {
          "output_type": "stream",
          "name": "stdout",
          "text": [
            "type of height <class 'float'>\n"
          ]
        }
      ]
    },
    {
      "cell_type": "markdown",
      "source": [
        "# Q7: Assign the value `True` to a variable named `is_student` and print the variable."
      ],
      "metadata": {
        "id": "ZuNaP6F_XX_i"
      }
    },
    {
      "cell_type": "code",
      "source": [
        "is_student=\"true\"\n",
        "print(is_student)"
      ],
      "metadata": {
        "colab": {
          "base_uri": "https://localhost:8080/"
        },
        "id": "EtuAEYncUkTt",
        "outputId": "1747a141-b9bc-4377-a5a5-10afbae153b3"
      },
      "execution_count": null,
      "outputs": [
        {
          "output_type": "stream",
          "name": "stdout",
          "text": [
            "true\n"
          ]
        }
      ]
    },
    {
      "cell_type": "markdown",
      "source": [
        "# Q8: Create a variable `name` with your first name using double quotes and then another variable `surname`"
      ],
      "metadata": {
        "id": "qYSvPu7bZfZx"
      }
    },
    {
      "cell_type": "code",
      "source": [
        "name=\"Achwaq\"\n",
        "surname=\"DJERAF\""
      ],
      "metadata": {
        "id": "zhGRmKJsZejc"
      },
      "execution_count": null,
      "outputs": []
    },
    {
      "cell_type": "markdown",
      "source": [
        "## Q9: Create two variables `x` and `y` and assign them integer values. Swap their values without using a third variable."
      ],
      "metadata": {
        "id": "M-aqiO4hYOsf"
      }
    },
    {
      "cell_type": "code",
      "source": [
        "x=10\n",
        "y=15\n",
        "x=y\n",
        "print(x,y)"
      ],
      "metadata": {
        "colab": {
          "base_uri": "https://localhost:8080/"
        },
        "id": "vRMDefK-ZGhh",
        "outputId": "710d8086-c80c-49b5-d096-97e1a86468ce"
      },
      "execution_count": 7,
      "outputs": [
        {
          "output_type": "stream",
          "name": "stdout",
          "text": [
            "15 15\n"
          ]
        }
      ]
    },
    {
      "cell_type": "markdown",
      "source": [
        "#Q10: Write a statement to update the `age` variable by adding 5 to it"
      ],
      "metadata": {
        "id": "aOJYx0jAXEXS"
      }
    },
    {
      "cell_type": "code",
      "source": [
        "age=22\n",
        "age=age+5\n",
        "print(age)"
      ],
      "metadata": {
        "colab": {
          "base_uri": "https://localhost:8080/"
        },
        "id": "4m2A4VFHXIup",
        "outputId": "b367edff-c4c3-4356-c86c-35038d673954"
      },
      "execution_count": 9,
      "outputs": [
        {
          "output_type": "stream",
          "name": "stdout",
          "text": [
            "27\n"
          ]
        }
      ]
    },
    {
      "cell_type": "markdown",
      "source": [
        "# Q11: Create a variable `length` and assign it the value 15. Create another variable `width` and assign it 10. Calculate the area of a rectangle using these variables and print the result"
      ],
      "metadata": {
        "id": "88Z4HKNae9S7"
      }
    },
    {
      "cell_type": "code",
      "source": [
        "length=15\n",
        "width=10\n",
        "area=length*width\n",
        "print(area)"
      ],
      "metadata": {
        "colab": {
          "base_uri": "https://localhost:8080/"
        },
        "id": "aaLVqWdwfFj8",
        "outputId": "95ea4e0e-322e-483e-9ad8-4cb82ab55056"
      },
      "execution_count": 10,
      "outputs": [
        {
          "output_type": "stream",
          "name": "stdout",
          "text": [
            "150\n"
          ]
        }
      ]
    },
    {
      "cell_type": "markdown",
      "source": [
        "# Q12: Using the variables `base` and `height`, calculate the area of a triangle and print it. Assume `base = 8` and `height = 5`."
      ],
      "metadata": {
        "id": "UMOdnPwWfyJa"
      }
    },
    {
      "cell_type": "code",
      "source": [
        "base=8\n",
        "height=5\n",
        "area=(base*height)/2\n",
        "print(area)"
      ],
      "metadata": {
        "colab": {
          "base_uri": "https://localhost:8080/"
        },
        "id": "sv9T9xcYf5Nk",
        "outputId": "a244ba60-76c5-4e8b-b3e0-19fe7e1fd393"
      },
      "execution_count": 13,
      "outputs": [
        {
          "output_type": "stream",
          "name": "stdout",
          "text": [
            "20.0\n"
          ]
        }
      ]
    },
    {
      "cell_type": "markdown",
      "source": [
        "# Q13: Create a string variable `greeting` with the text \"Hello\" and another variable `recipient` with the text \"World\". Combine them with a space in between and print the result"
      ],
      "metadata": {
        "id": "3TASgNH7gi22"
      }
    },
    {
      "cell_type": "code",
      "source": [
        "greeting=\"Hello\"\n",
        "recipient=\"World\"\n",
        "print(greeting,recipient)"
      ],
      "metadata": {
        "colab": {
          "base_uri": "https://localhost:8080/"
        },
        "id": "V9HzRC-dgrzS",
        "outputId": "10a7022b-0353-477c-da4b-f4139da9faa8"
      },
      "execution_count": 14,
      "outputs": [
        {
          "output_type": "stream",
          "name": "stdout",
          "text": [
            "Hello World\n"
          ]
        }
      ]
    },
    {
      "cell_type": "markdown",
      "source": [
        "# Q14: Create a boolean variable `is_active` and set it to `False`. Then change its value to `True` and print it"
      ],
      "metadata": {
        "id": "DNeiQeGKhGtb"
      }
    },
    {
      "cell_type": "code",
      "source": [
        "is_active=False\n",
        "is_active=True\n",
        "print(is_active)"
      ],
      "metadata": {
        "colab": {
          "base_uri": "https://localhost:8080/"
        },
        "id": "OwjPiEE4hGQB",
        "outputId": "31f1d1c3-4e50-43df-c0b6-8e2a612ac952"
      },
      "execution_count": 15,
      "outputs": [
        {
          "output_type": "stream",
          "name": "stdout",
          "text": [
            "True\n"
          ]
        }
      ]
    },
    {
      "cell_type": "markdown",
      "source": [
        "# Q15: Using f-strings, print a formatted message: \"My name is [name] and I am [age] years old.\" Replace [name] and [age] with the appropriate variables."
      ],
      "metadata": {
        "id": "YlGJTlerhlpr"
      }
    },
    {
      "cell_type": "code",
      "source": [
        "from os import fork\n",
        "name=\"Achwaq\"\n",
        "age=22\n",
        "formatted_string = f\"My name is {name} and I am {age} years old\"\n",
        "print(formatted_string)"
      ],
      "metadata": {
        "colab": {
          "base_uri": "https://localhost:8080/"
        },
        "id": "HpR-ud54hMl_",
        "outputId": "56fc640a-7c37-4eac-c72d-100428d9196f"
      },
      "execution_count": 24,
      "outputs": [
        {
          "output_type": "stream",
          "name": "stdout",
          "text": [
            "My name is Achwaq and I am 22 years old\n"
          ]
        }
      ]
    },
    {
      "cell_type": "markdown",
      "source": [
        "# Q16: Create a variable `pi` and assign it the value 3.14159. Print the variable, ensuring it only shows 2 decimal places"
      ],
      "metadata": {
        "id": "LK92n58xt66_"
      }
    },
    {
      "cell_type": "code",
      "source": [
        "pi=3.14159\n",
        "print(f\"{pi:.2f}\")"
      ],
      "metadata": {
        "colab": {
          "base_uri": "https://localhost:8080/"
        },
        "id": "700LUIcKuGRR",
        "outputId": "6388534b-368b-4933-8a97-22a209a41c6d"
      },
      "execution_count": 25,
      "outputs": [
        {
          "output_type": "stream",
          "name": "stdout",
          "text": [
            "3.14\n"
          ]
        }
      ]
    },
    {
      "cell_type": "markdown",
      "source": [
        "# Q17: Assign the value of a mathematical expression (e.g., `2 * (3 + 5)`) to a variable and print it"
      ],
      "metadata": {
        "id": "RfzjLN1FuyGk"
      }
    },
    {
      "cell_type": "code",
      "source": [
        "A=(2*(3+5))\n",
        "A"
      ],
      "metadata": {
        "colab": {
          "base_uri": "https://localhost:8080/"
        },
        "id": "kQgWWE7Uu3-i",
        "outputId": "17340a5a-9ba2-491d-f193-bba8d8c1464d"
      },
      "execution_count": 27,
      "outputs": [
        {
          "output_type": "execute_result",
          "data": {
            "text/plain": [
              "16"
            ]
          },
          "metadata": {},
          "execution_count": 27
        }
      ]
    },
    {
      "cell_type": "markdown",
      "source": [
        "# Q18: Create a variable `sentence` and assign it a sentence of your choice. Use slicing to print the first 5 characters."
      ],
      "metadata": {
        "id": "SLol15HnvLq-"
      }
    },
    {
      "cell_type": "code",
      "source": [
        "sentence=\"final project\"\n",
        "print(sentence[:5])"
      ],
      "metadata": {
        "colab": {
          "base_uri": "https://localhost:8080/"
        },
        "id": "oUWuEWAevLMg",
        "outputId": "0fded9d9-02d0-4987-d0f6-0414e3511074"
      },
      "execution_count": 30,
      "outputs": [
        {
          "output_type": "stream",
          "name": "stdout",
          "text": [
            "final\n"
          ]
        }
      ]
    },
    {
      "cell_type": "markdown",
      "source": [
        "#Create a variable `number` with the value 100. Use an arithmetic operation to double its value and then print it"
      ],
      "metadata": {
        "id": "Ov26QOyNwAOM"
      }
    },
    {
      "cell_type": "code",
      "source": [
        "number=100\n",
        "number=number*2\n",
        "print(number)"
      ],
      "metadata": {
        "colab": {
          "base_uri": "https://localhost:8080/"
        },
        "id": "DvrLAeaOwJKp",
        "outputId": "c113ecb6-f0ed-40bc-ff00-085b5ea9de65"
      },
      "execution_count": 31,
      "outputs": [
        {
          "output_type": "stream",
          "name": "stdout",
          "text": [
            "200\n"
          ]
        }
      ]
    },
    {
      "cell_type": "markdown",
      "source": [
        "# Q20: Declare three variables `a`, `b`, and `c` with values 5, 10, and 15 respectively. Calculate and print their average."
      ],
      "metadata": {
        "id": "PmtmLc59xaEn"
      }
    },
    {
      "cell_type": "code",
      "source": [
        "a=5\n",
        "b=10\n",
        "c=15\n",
        "y=(a+b+c)/3\n",
        "print(\"the average is\",y)"
      ],
      "metadata": {
        "colab": {
          "base_uri": "https://localhost:8080/"
        },
        "id": "rQIV0QI-xZwz",
        "outputId": "3faeaf76-236e-4086-ba03-9f585e41079a"
      },
      "execution_count": 34,
      "outputs": [
        {
          "output_type": "stream",
          "name": "stdout",
          "text": [
            "the average is 10.0\n"
          ]
        }
      ]
    }
  ]
}